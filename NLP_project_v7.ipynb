{
 "cells": [
  {
   "cell_type": "markdown",
   "metadata": {},
   "source": [
    "# Spam Detection: Applying NLP and Random Forest for Text Message Classification\n",
    "Machine Learning: Applications in Economic Research <br>\n",
    "Ludwig-Maximilians University Munich <br>\n",
    "submitted to: Thomas Fackler and Nadzeya Laurentsyeva <br>\n",
    "submitted by Stanislas d'Orsetti, Hyeonu Kim and Sarah Dölger\n",
    "\n",
    "\n",
    "## Introduction\n",
    "\n",
    "\n",
    "Although the classic SMS text message has been overtaken in the past few years by the emergence of app-based messaging, SMS is still widely used. Whilst casual communication has moved to the likes of WhatsApp, iMessages or Telegram, SMS is still relied upon for more formal communication (e.g., two-stage identity verification, reminders to listen to your voicemail, confirmation of your COVID test timeslot). However, communication via SMS text message has not received the same default protection other forms of communication have seen. While email communication has a default spam filter regardless of which provider you use, a spam filter for text messages is not automatically enabled. The user must actively turn on spam protection, if this is even available on their phone. With smartphones constantly connected to the internet, saving passwords, and storing personal data, the threats that arise from clicking on a link in a false email are similar to those of following a link in a false text.\n",
    "\n",
    "For our research project we will examine how well a simple spam filter works on text messages. Text messages have specific attributes that differentiate them from the conventional email and pose an interesting setting in which to test the effectiveness of different machine learning methods in classifying messages. Due to restrictions on the number of characters available per message, text messages usually consist of few words and frequently feature abbreviations. Also, the form of writing in text messages is in general less formal and more rife with personalized word use.  Accounting for these attributes is therefore essential for creating a spam filter specific for SMS messages. Therefore, this project will not only examine a Naïve Bayesian Classifier to determine whether a text is spam but also use Random Forest to examine what characteristics of a text message are informative about the type of message.\n",
    "\n",
    "\n"
   ]
  },
  {
   "cell_type": "code",
   "execution_count": 31,
   "metadata": {},
   "outputs": [
    {
     "ename": "SyntaxError",
     "evalue": "invalid syntax (<ipython-input-31-ce2224c28f34>, line 3)",
     "output_type": "error",
     "traceback": [
      "\u001b[1;36m  File \u001b[1;32m\"<ipython-input-31-ce2224c28f34>\"\u001b[1;36m, line \u001b[1;32m3\u001b[0m\n\u001b[1;33m    conda install -c anaconda graphviz\u001b[0m\n\u001b[1;37m          ^\u001b[0m\n\u001b[1;31mSyntaxError\u001b[0m\u001b[1;31m:\u001b[0m invalid syntax\n"
     ]
    }
   ],
   "source": [
    "#pip install wordcloud\n",
    "#pip install pydot\n",
    "conda install -c anaconda graphviz"
   ]
  },
  {
   "cell_type": "code",
   "execution_count": 33,
   "metadata": {
    "scrolled": false
   },
   "outputs": [],
   "source": [
    "import numpy as np\n",
    "import pandas as pd\n",
    "import seaborn as sns\n",
    "import csv\n",
    "import matplotlib.pyplot as plt\n",
    "import nltk\n",
    "from nltk import PorterStemmer\n",
    "porter = PorterStemmer()\n",
    "from nltk.tokenize import word_tokenize\n",
    "from nltk import punkt\n",
    "from nltk.corpus import stopwords\n",
    "\n",
    "\n",
    "from nltk.stem.porter import *\n",
    "from nltk.probability import FreqDist\n",
    "\n",
    "# from wordcloud import WordCloud, STOPWORDS, ImageColorGenerator\n",
    "from IPython.display import Image  \n",
    "\n",
    "from sklearn.feature_extraction.text import CountVectorizer\n",
    "from sklearn.ensemble import RandomForestRegressor, RandomForestClassifier\n",
    "from sklearn.tree import export_graphviz\n",
    "from sklearn.naive_bayes import MultinomialNB\n",
    "from sklearn.metrics import classification_report, confusion_matrix, accuracy_score\n",
    "from sklearn.model_selection import train_test_split\n",
    "from sklearn.feature_extraction.text import TfidfVectorizer\n",
    "from sklearn.tree import export_graphviz\n",
    "\n",
    "import pydot\n"
   ]
  },
  {
   "cell_type": "code",
   "execution_count": 4,
   "metadata": {},
   "outputs": [],
   "source": [
    "sms = pd.read_csv(\"spam.csv\", engine='python')"
   ]
  },
  {
   "cell_type": "markdown",
   "metadata": {},
   "source": [
    "## The Data\n",
    "\n",
    "In order to test the applicability of a simple spam filter for text messages we use the SMS Spam Collection Dataset provided on Kaggle as a source for text messages. This dataset compiles spam and non-spam text message datasets from a variety of different sources. The main corpus of non-spam messages stems from a research dataset compiled at the University of Singapore. The messages were provided mainly by university students. The set of non-spam messages is extended by two other smaller sources. The spam messages predominately originate from a British online platform where users can indicate when they have received a spam message.\n",
    "\n",
    "Overall, the dataset includes 4,825 non-spam messages and 747 spam messages. All messages are in English. An abstract can be seen below:\n"
   ]
  },
  {
   "cell_type": "code",
   "execution_count": null,
   "metadata": {},
   "outputs": [],
   "source": [
    "sms"
   ]
  },
  {
   "cell_type": "markdown",
   "metadata": {},
   "source": [
    "Each row in the data refers to one sent text message. The classification of the message into either spam or ham (non-spam) is stated in v1, whilst the content of that message is depicted in v2. The contents in columns three, four and five, referred to as “Unnamed: 2”, “Unnamed: 3” and “Unnamed: 4”, respectively, is not indicated clearly. Most of these columns do not contain any information. Filtering for those messages that do have informative content for these three columns, it appears that these are further text messages, although it is not always certain how these messages connect to the original text.\n",
    "\n",
    "Message 710 is a good example where it is clear to see that the message was an addition to the original text.\n",
    "\n"
   ]
  },
  {
   "cell_type": "code",
   "execution_count": 7,
   "metadata": {
    "scrolled": false
   },
   "outputs": [
    {
     "data": {
      "text/html": [
       "<div>\n",
       "<style scoped>\n",
       "    .dataframe tbody tr th:only-of-type {\n",
       "        vertical-align: middle;\n",
       "    }\n",
       "\n",
       "    .dataframe tbody tr th {\n",
       "        vertical-align: top;\n",
       "    }\n",
       "\n",
       "    .dataframe thead th {\n",
       "        text-align: right;\n",
       "    }\n",
       "</style>\n",
       "<table border=\"1\" class=\"dataframe\">\n",
       "  <thead>\n",
       "    <tr style=\"text-align: right;\">\n",
       "      <th></th>\n",
       "      <th>Unnamed: 2</th>\n",
       "      <th>Unnamed: 3</th>\n",
       "      <th>Unnamed: 4</th>\n",
       "    </tr>\n",
       "  </thead>\n",
       "  <tbody>\n",
       "    <tr>\n",
       "      <th>95</th>\n",
       "      <td>PO Box 5249</td>\n",
       "      <td>MK17 92H. 450Ppw 16\"</td>\n",
       "      <td>NaN</td>\n",
       "    </tr>\n",
       "    <tr>\n",
       "      <th>281</th>\n",
       "      <td>the person is definitely special for u..... B...</td>\n",
       "      <td>why to miss them</td>\n",
       "      <td>just Keep-in-touch\\\" gdeve..\"</td>\n",
       "    </tr>\n",
       "    <tr>\n",
       "      <th>444</th>\n",
       "      <td>HOWU DOIN? FOUNDURSELF A JOBYET SAUSAGE?LOVE ...</td>\n",
       "      <td>NaN</td>\n",
       "      <td>NaN</td>\n",
       "    </tr>\n",
       "    <tr>\n",
       "      <th>671</th>\n",
       "      <td>wanted to say hi. HI!!!\\\" Stop? Send STOP to ...</td>\n",
       "      <td>NaN</td>\n",
       "      <td>NaN</td>\n",
       "    </tr>\n",
       "    <tr>\n",
       "      <th>710</th>\n",
       "      <td>this wont even start........ Datz confidence..\"</td>\n",
       "      <td>NaN</td>\n",
       "      <td>NaN</td>\n",
       "    </tr>\n",
       "  </tbody>\n",
       "</table>\n",
       "</div>"
      ],
      "text/plain": [
       "                                            Unnamed: 2             Unnamed: 3  \\\n",
       "95                                         PO Box 5249   MK17 92H. 450Ppw 16\"   \n",
       "281   the person is definitely special for u..... B...       why to miss them   \n",
       "444   HOWU DOIN? FOUNDURSELF A JOBYET SAUSAGE?LOVE ...                    NaN   \n",
       "671   wanted to say hi. HI!!!\\\" Stop? Send STOP to ...                    NaN   \n",
       "710    this wont even start........ Datz confidence..\"                    NaN   \n",
       "\n",
       "                         Unnamed: 4  \n",
       "95                              NaN  \n",
       "281   just Keep-in-touch\\\" gdeve..\"  \n",
       "444                             NaN  \n",
       "671                             NaN  \n",
       "710                             NaN  "
      ]
     },
     "execution_count": 7,
     "metadata": {},
     "output_type": "execute_result"
    }
   ],
   "source": [
    "sms_check = sms.loc[:,['Unnamed: 2', 'Unnamed: 3', 'Unnamed: 4']].dropna(how='all')\n",
    "sms_check.head()"
   ]
  },
  {
   "cell_type": "code",
   "execution_count": 8,
   "metadata": {
    "scrolled": true
   },
   "outputs": [
    {
     "name": "stdout",
     "output_type": "stream",
     "text": [
      "Height of Confidence: All the Aeronautics professors wer calld &amp; they wer askd 2 sit in an aeroplane. Aftr they sat they wer told dat the plane ws made by their students. Dey all hurried out of d plane.. Bt only 1 didnt move... He said:\\if it is made by my students\n",
      "this wont even start........ Datz confidence..\"\n"
     ]
    }
   ],
   "source": [
    "print(sms.iloc[710]['v2'])\n",
    "print(sms.iloc[710]['Unnamed: 2'])"
   ]
  },
  {
   "cell_type": "code",
   "execution_count": 9,
   "metadata": {},
   "outputs": [
    {
     "data": {
      "text/plain": [
       "(50, 3)"
      ]
     },
     "execution_count": 9,
     "metadata": {},
     "output_type": "execute_result"
    }
   ],
   "source": [
    "sms_check.shape"
   ]
  },
  {
   "cell_type": "markdown",
   "metadata": {},
   "source": [
    "Because this is not always the case and only 50 messages in the dataset have informative contents for these columns, we exclude these columns from our analysis and focus only on the main text messages."
   ]
  },
  {
   "cell_type": "code",
   "execution_count": 10,
   "metadata": {},
   "outputs": [
    {
     "data": {
      "text/html": [
       "<div>\n",
       "<style scoped>\n",
       "    .dataframe tbody tr th:only-of-type {\n",
       "        vertical-align: middle;\n",
       "    }\n",
       "\n",
       "    .dataframe tbody tr th {\n",
       "        vertical-align: top;\n",
       "    }\n",
       "\n",
       "    .dataframe thead th {\n",
       "        text-align: right;\n",
       "    }\n",
       "</style>\n",
       "<table border=\"1\" class=\"dataframe\">\n",
       "  <thead>\n",
       "    <tr style=\"text-align: right;\">\n",
       "      <th></th>\n",
       "      <th>label</th>\n",
       "      <th>messages</th>\n",
       "    </tr>\n",
       "  </thead>\n",
       "  <tbody>\n",
       "    <tr>\n",
       "      <th>0</th>\n",
       "      <td>ham</td>\n",
       "      <td>Go until jurong point, crazy.. Available only ...</td>\n",
       "    </tr>\n",
       "    <tr>\n",
       "      <th>1</th>\n",
       "      <td>ham</td>\n",
       "      <td>Ok lar... Joking wif u oni...</td>\n",
       "    </tr>\n",
       "    <tr>\n",
       "      <th>2</th>\n",
       "      <td>spam</td>\n",
       "      <td>Free entry in 2 a wkly comp to win FA Cup fina...</td>\n",
       "    </tr>\n",
       "    <tr>\n",
       "      <th>3</th>\n",
       "      <td>ham</td>\n",
       "      <td>U dun say so early hor... U c already then say...</td>\n",
       "    </tr>\n",
       "    <tr>\n",
       "      <th>4</th>\n",
       "      <td>ham</td>\n",
       "      <td>Nah I don't think he goes to usf, he lives aro...</td>\n",
       "    </tr>\n",
       "  </tbody>\n",
       "</table>\n",
       "</div>"
      ],
      "text/plain": [
       "  label                                           messages\n",
       "0   ham  Go until jurong point, crazy.. Available only ...\n",
       "1   ham                      Ok lar... Joking wif u oni...\n",
       "2  spam  Free entry in 2 a wkly comp to win FA Cup fina...\n",
       "3   ham  U dun say so early hor... U c already then say...\n",
       "4   ham  Nah I don't think he goes to usf, he lives aro..."
      ]
     },
     "execution_count": 10,
     "metadata": {},
     "output_type": "execute_result"
    }
   ],
   "source": [
    "sms = sms.drop(['Unnamed: 2', 'Unnamed: 3', 'Unnamed: 4'], axis = 1)\n",
    "sms.columns = ['label','messages']\n",
    "sms.head()"
   ]
  },
  {
   "cell_type": "markdown",
   "metadata": {},
   "source": [
    "## Descriptive Statistics\n",
    "\n",
    "When examining the text messages in terms of their content, it quickly becomes clear that they cover a large scope of topics and have large differences in their writing style. Whilst some messages use “normal” vocabulary, many use abbreviations or slang that shorten the message. For example, the use of “u” instead of “you” and “2” instead of “to” are very common, but also “dat” is often used instead of “that”. The following word cloud demonstrates the most used words from all messages."
   ]
  },
  {
   "cell_type": "code",
   "execution_count": null,
   "metadata": {},
   "outputs": [],
   "source": [
    "text = ''.join(sms['messages'])\n",
    "wordcloud = WordCloud(max_font_size=100, max_words=100, background_color=\"white\").generate(text)\n",
    "plt.figure()\n",
    "plt.imshow(wordcloud, interpolation='bilinear')\n",
    "plt.axis(\"off\")\n",
    "plt.show()"
   ]
  },
  {
   "cell_type": "markdown",
   "metadata": {},
   "source": [
    "Seeing as we have not processed the data in any way, it was to be expected that the most used words are unlikely to refer to a specific topic. Furthermore, our assumption that abbreviations are very common is correct. \"u\", \"gt\" or \"ur\" are amongst the most frequently used words. Unfortunately, we are unable to include numbers in the word cloud. Our guess is that number abbreviations would also be very common.\n",
    "\n",
    "Dividing up the dataset into spam and ham messages, we find that a few words already appear indicative of a text being a spam message. For instance, the frequent usage of the words “free”, “call” and \"txt\" in spam texts fits to what one would generally expect. Also, many of the words relate to actions connected to winning a prize, such as \"claim\", \"reply\", \"receive\".\n",
    "\n",
    "The word cloud for the non-spam messages does not appear very different from the cloud using all messages. This is on the one hand due to the fact that there are considerably more ham than spam messages, and on the other hand implies that ham messages contain less common topics. Therefore, the non-spam messages appear to have less content related words amongst the most frequently used words.\n",
    "\n"
   ]
  },
  {
   "cell_type": "code",
   "execution_count": null,
   "metadata": {},
   "outputs": [],
   "source": [
    "ham = sms[sms['label'] == 'ham']\n",
    "spam = sms[sms['label'] == 'spam']"
   ]
  },
  {
   "cell_type": "code",
   "execution_count": null,
   "metadata": {},
   "outputs": [],
   "source": [
    "text = ''.join(spam['messages'])\n",
    "wordcloud = WordCloud(max_font_size=100, max_words=100, background_color=\"white\").generate(text)\n",
    "plt.figure()\n",
    "plt.imshow(wordcloud, interpolation='bilinear')\n",
    "plt.axis(\"off\")\n",
    "plt.show()"
   ]
  },
  {
   "cell_type": "code",
   "execution_count": null,
   "metadata": {
    "scrolled": false
   },
   "outputs": [],
   "source": [
    "text = ''.join(ham['messages'])\n",
    "wordcloud = WordCloud(max_font_size=100, max_words=100, background_color=\"white\").generate(text)\n",
    "plt.figure()\n",
    "plt.imshow(wordcloud, interpolation='bilinear')\n",
    "plt.axis(\"off\")\n",
    "plt.show()"
   ]
  },
  {
   "cell_type": "markdown",
   "metadata": {},
   "source": [
    "# Methodology\n",
    "\n",
    "\n",
    "\n",
    "## Text Processing\n",
    "\n",
    "When processing the text messages, we had to consider what characteristics of the actual message we want to capture. This is especially important when considering which stop words to remove and how to deal with the common use of abbreviations. If abbreviations are common for both spam and non-spam messaging, then these will be of little relevance when classifying a message. However, if only non-spam messages use certain abbreviations, then it could well be that our program uses these as their main way of differentiating between types of messages. Furthermore, we had to consider how to deal with capitalizations and punctuation, as these could also be indicative for the type of message. If key words such as \"TEXT\" or \"FREE\" are all capitalized it may be an indication that the message is spam, and therefore the capitalization scheme includes valuable information for distinguishing the type of message. For our baseline model we decided to include a large amount of pre-processing. This gives us an indication as to how well the program works by just examining the usage of words, disregarding all formatting of the text. We compare this baseline to a situation in which we preform less pre-processing.\n",
    "\n",
    "The pre-processing includes removing stopwords, removing punctuation, turning all letters into lower cases.\n"
   ]
  },
  {
   "cell_type": "code",
   "execution_count": null,
   "metadata": {},
   "outputs": [],
   "source": [
    "import string\n",
    "\n",
    "stop = stopwords.words('english')\n",
    "\n",
    "def txtprocess(messages):\n",
    "    \n",
    "    nopunc = [char for char in messages if char not in string.punctuation] \n",
    "    \n",
    "    nopunc = ''.join(nopunc)\n",
    "\n",
    "    return ' '.join([word.lower() for word in nopunc.split() if word.lower() not in stop])"
   ]
  },
  {
   "cell_type": "code",
   "execution_count": null,
   "metadata": {
    "scrolled": false
   },
   "outputs": [],
   "source": [
    "sms['processed'] = sms.messages.apply(txtprocess)\n",
    "sms.head()"
   ]
  },
  {
   "cell_type": "markdown",
   "metadata": {},
   "source": [
    "After processing the most common words for ham and spam messages are still very similar compared to the non-processed texts."
   ]
  },
  {
   "cell_type": "code",
   "execution_count": null,
   "metadata": {},
   "outputs": [],
   "source": [
    "#splitting the dataset into ham and spam\n",
    "\n",
    "ham = sms[sms['label'] == 'ham']\n",
    "spam = sms[sms['label'] == 'spam']"
   ]
  },
  {
   "cell_type": "code",
   "execution_count": null,
   "metadata": {
    "scrolled": true
   },
   "outputs": [],
   "source": [
    "word_spam = ''.join(spam['processed'])\n",
    "word_ham = ''.join(ham['processed'])\n",
    "tokenized_word_spam=word_tokenize(word_spam)\n",
    "tokenized_word_ham=word_tokenize(word_ham)\n",
    "\n",
    "stopword = set(STOPWORDS)"
   ]
  },
  {
   "cell_type": "code",
   "execution_count": null,
   "metadata": {},
   "outputs": [],
   "source": [
    "#Counting the number of times the most frequent words in processed ham and spam messages are used\n",
    "fdist_spam = FreqDist(tokenized_word_spam)\n",
    "fdist_ham = FreqDist(tokenized_word_ham)"
   ]
  },
  {
   "cell_type": "code",
   "execution_count": null,
   "metadata": {
    "scrolled": true
   },
   "outputs": [],
   "source": [
    "fdist_spam.plot(30,cumulative=False, title = 'most used words in processed spam messages')\n",
    "plt.show()"
   ]
  },
  {
   "cell_type": "code",
   "execution_count": null,
   "metadata": {
    "scrolled": true
   },
   "outputs": [],
   "source": [
    "fdist_ham.plot(30,cumulative=False, title = 'most used words in processed ham messages')\n",
    "plt.show()"
   ]
  },
  {
   "cell_type": "markdown",
   "metadata": {},
   "source": [
    "In order to apply a Naïve Bayesian model, we tokenize the text. In our baseline model we only include words that consist of only letters and are between 3-20 characters long. Furthermore, we disregard tokens that are not mentioned in more than three different texts. This prevents for example, unintentionally misspelled words from being included. Setting min_df=3 reduces the number of tokens from 7945 without any restrictions, to 2277 with restriction. As we want to avoid overfitting our model, we set a minimum.\n",
    "\n",
    "Setting a maximum on how many text messages use specific words does not have an impact on the tokens in this dataset. This is due to the fact that the most frequently used words are already filtered out: words shorter than three characters and stopwords. Only when the max_df measure is set to below 5% does this have an effect on the number of tokens. We therefore do not include an upper bound to the frequency of used words.\n",
    "\n",
    "In order to compare the accuracy of our baseline model to a model using less processed data, we also tokenize the text messages in their original format; we do not control for the length of words, the use of numbers or symbols, the capitalization, nor do we exclude stopwords. This leaves us with 3332 tokens.\n"
   ]
  },
  {
   "cell_type": "code",
   "execution_count": null,
   "metadata": {},
   "outputs": [],
   "source": [
    "#Tokenizing Processed Messages\n",
    "rx = '[a-zA-Z]{3,20}'\n",
    "cv = CountVectorizer(max_df=1.0, min_df=3, max_features=10000, stop_words='english', token_pattern = rx)\n",
    "\n",
    "cvf = cv.fit_transform(sms[\"processed\"])\n",
    "print(cv.get_feature_names())\n",
    "print(cvf.toarray().shape)"
   ]
  },
  {
   "cell_type": "code",
   "execution_count": null,
   "metadata": {},
   "outputs": [],
   "source": [
    "#Tokanizing non-processed Messages\n",
    "cv_np = CountVectorizer(lowercase=False, max_df=1.0 , min_df=3, max_features=10000)\n",
    "\n",
    "cv_npf = cv_np.fit_transform(sms[\"messages\"])\n",
    "print(cv_np.get_feature_names())\n",
    "print(cv_npf.toarray().shape)"
   ]
  },
  {
   "cell_type": "markdown",
   "metadata": {},
   "source": [
    " # Modeling - using Naive Bayesian Classification"
   ]
  },
  {
   "cell_type": "markdown",
   "metadata": {},
   "source": [
    "The first method we will test as a spam filter is a Naïve Bayesian classifier. Controlling for the amount of text processing, we will be able to tell how indicative word usage is for classifying text messages into spam or non-spam.\n",
    "\n",
    "In order to run a Naïve Bayesian model, we firstly generate a vector that labels a message with the indicator 1 if the message is spam.\n"
   ]
  },
  {
   "cell_type": "markdown",
   "metadata": {},
   "source": [
    "## Baseline - Processed Texts:"
   ]
  },
  {
   "cell_type": "markdown",
   "metadata": {},
   "source": [
    "Our baseline model uses the fully processed tokenized messages. Splitting our sample into 80% training and 20% test, we obtain an accuracy rate of classifying a text message correctly of around 97.8%. This is a very high accuracy rate. Examining the confusion matrix we observe that 11 non-spam messages were wrongly classified as spam, and 14 spam messages were wrongly classified as normal texts. For the spam messages this is a rate of false negatives of 9.3% and larger than we would like."
   ]
  },
  {
   "cell_type": "code",
   "execution_count": null,
   "metadata": {},
   "outputs": [],
   "source": [
    "x = cv.fit_transform(sms[\"processed\"])\n",
    "y = sms['label']"
   ]
  },
  {
   "cell_type": "code",
   "execution_count": null,
   "metadata": {},
   "outputs": [],
   "source": [
    "# split sets into train/test\n",
    "x_train, x_test, y_train, y_test = train_test_split(x, y, test_size=0.2, random_state=42)"
   ]
  },
  {
   "cell_type": "code",
   "execution_count": null,
   "metadata": {},
   "outputs": [],
   "source": [
    "classifier = MultinomialNB().fit(x_train, y_train)"
   ]
  },
  {
   "cell_type": "code",
   "execution_count": null,
   "metadata": {
    "scrolled": true
   },
   "outputs": [],
   "source": [
    "pred = classifier.predict(x_test)\n",
    "cm_p = confusion_matrix(y_test, pred)\n",
    "acc_p = accuracy_score(y_test, pred)\n",
    "print(classification_report(y_test, pred))\n",
    "print()\n",
    "print('Confusion Matrix:\\n',cm_p)\n",
    "print()\n",
    "print('Accuracy : ', acc_p)"
   ]
  },
  {
   "cell_type": "markdown",
   "metadata": {},
   "source": [
    "## Non-Processed Texts:"
   ]
  },
  {
   "cell_type": "markdown",
   "metadata": {},
   "source": [
    "When using non-processed text messages, we obtain slightly higher accuracy of 98.6%. This comes from an improvement in classifying non-spam messages. With no processing only 3 out of 965 non spam text messages are wrongly classified as spam. The number of false negatives for spam messages reduces by one. This indicates that the extra information the algorithm received from the inclusion of numbers, shorter words and capitalizations was useful in determining non-spam rather than spam texts. This also indicates that the format of the text contains some useful information for the classification."
   ]
  },
  {
   "cell_type": "code",
   "execution_count": null,
   "metadata": {},
   "outputs": [],
   "source": [
    "a = cv_np.fit_transform(sms[\"messages\"])\n",
    "b = sms['label']"
   ]
  },
  {
   "cell_type": "code",
   "execution_count": null,
   "metadata": {},
   "outputs": [],
   "source": [
    "# split sets into train/test\n",
    "a_train, a_test, b_train, b_test = train_test_split(a, b, test_size=0.2, random_state=42)"
   ]
  },
  {
   "cell_type": "code",
   "execution_count": null,
   "metadata": {},
   "outputs": [],
   "source": [
    "classifier_np = MultinomialNB().fit(a_train, b_train)"
   ]
  },
  {
   "cell_type": "code",
   "execution_count": null,
   "metadata": {
    "scrolled": true
   },
   "outputs": [],
   "source": [
    "pred_np = classifier_np.predict(a_test)\n",
    "cm_np = confusion_matrix(b_test, pred_np)\n",
    "acc_np = accuracy_score(b_test, pred_np)\n",
    "\n",
    "print(classification_report(b_test, pred_np))\n",
    "print()\n",
    "print('Confusion Matrix:\\n',cm_np)\n",
    "print()\n",
    "print('Accuracy : ',acc_np)"
   ]
  },
  {
   "cell_type": "markdown",
   "metadata": {},
   "source": [
    "# Modeling - Using TF-idf"
   ]
  },
  {
   "cell_type": "markdown",
   "metadata": {},
   "source": [
    "As a comparison we test a spam filter using a TF-IDF vectorizer. This method puts higher weights on words which are characteristic for a particular text. Our hypothesis is that words indicative of a spam message such as “FREE” or “win” will receive higher weightings than words such as “will”, “go” or “know” which are amongst the most common words from non-spam messages. Although the term frequency should be low for all words in all documents due to how short each text message is, the inverse document frequency should weight how rare words are across all texts. Given that the number of spam messages is considerably lower than the number of ham messages, this should be giving higher weighting to words indicative of spam messages by design. Our hypothesis is that using TF-IDF will improve the rate with which spam messages are recognized."
   ]
  },
  {
   "cell_type": "markdown",
   "metadata": {},
   "source": [
    "## Processed Texts"
   ]
  },
  {
   "cell_type": "markdown",
   "metadata": {},
   "source": [
    "The results we obtain contradict our hypothesis. The model is not better at predicting spam messages, it is in fact worse. Although the accuracy is very similar to the accuracy using the Naive Bayes algorithm, the rate at which spam messages are wrongly classified as non-spam has more than doubled. On the up side, the algorithm has greatly improved in correctly classifying non-spam messages. Only one ham message from the test set was wrongly marked as spam."
   ]
  },
  {
   "cell_type": "code",
   "execution_count": null,
   "metadata": {},
   "outputs": [],
   "source": [
    "rx = '[a-zA-Z]{3,20}'\n",
    "tfid = TfidfVectorizer(max_df=1.0, min_df=3, max_features=10000, stop_words='english', token_pattern = rx)\n",
    "tfidf = tfid.fit_transform(sms[\"processed\"])\n",
    "#print(tfid.get_feature_names())\n",
    "#print(tfidf.toarray().shape)"
   ]
  },
  {
   "cell_type": "code",
   "execution_count": null,
   "metadata": {},
   "outputs": [],
   "source": [
    "c = tfidf\n",
    "d = sms['label']"
   ]
  },
  {
   "cell_type": "code",
   "execution_count": null,
   "metadata": {},
   "outputs": [],
   "source": [
    "c_train, c_test, d_train, d_test = train_test_split(c, d, test_size=0.2, random_state=42)"
   ]
  },
  {
   "cell_type": "code",
   "execution_count": null,
   "metadata": {},
   "outputs": [],
   "source": [
    "classifier_tf = MultinomialNB().fit(c_train, d_train)"
   ]
  },
  {
   "cell_type": "code",
   "execution_count": null,
   "metadata": {},
   "outputs": [],
   "source": [
    "pred_tf = classifier_tf.predict(c_test)\n",
    "cm_tf = confusion_matrix(d_test, pred_tf)\n",
    "acc_tf = accuracy_score(d_test, pred_tf)\n",
    "\n",
    "print(classification_report(d_test, pred_tf))\n",
    "print()\n",
    "print('Confusion Matrix:\\n',cm_tf)\n",
    "print()\n",
    "print('Accuracy : ', acc_tf)"
   ]
  },
  {
   "cell_type": "markdown",
   "metadata": {},
   "source": [
    "## Non-Processed Texts"
   ]
  },
  {
   "cell_type": "markdown",
   "metadata": {},
   "source": [
    "When using non-processed text message data, the results do not change compared to the processed text model. The results are similarly bad. 19.3% of the spam messages are wrongly classified."
   ]
  },
  {
   "cell_type": "code",
   "execution_count": null,
   "metadata": {},
   "outputs": [],
   "source": [
    "tfid_2 = TfidfVectorizer(lowercase=False, max_df=1.0, min_df=3, max_features=10000)\n",
    "tfidf_2 = tfid_2.fit_transform(sms[\"messages\"])"
   ]
  },
  {
   "cell_type": "code",
   "execution_count": null,
   "metadata": {},
   "outputs": [],
   "source": [
    "e = tfidf_2\n",
    "f = sms['label']"
   ]
  },
  {
   "cell_type": "code",
   "execution_count": null,
   "metadata": {},
   "outputs": [],
   "source": [
    "e_train, e_test, f_train, f_test = train_test_split(e, f, test_size=0.2, random_state=42)"
   ]
  },
  {
   "cell_type": "code",
   "execution_count": null,
   "metadata": {},
   "outputs": [],
   "source": [
    "classifier_tfnp = MultinomialNB().fit(e_train, f_train)"
   ]
  },
  {
   "cell_type": "code",
   "execution_count": null,
   "metadata": {
    "scrolled": true
   },
   "outputs": [],
   "source": [
    "pred_tfnp = classifier_tfnp.predict(e_test)\n",
    "cm_tfnp = confusion_matrix(f_test, pred_tfnp)\n",
    "acc_tfnp = accuracy_score(f_test, pred_tfnp)\n",
    "\n",
    "print(classification_report(f_test, pred_tfnp))\n",
    "print()\n",
    "print('Confusion Matrix:\\n',cm_tfnp)\n",
    "print()\n",
    "print('Accuracy : ',acc_tfnp)"
   ]
  },
  {
   "cell_type": "markdown",
   "metadata": {},
   "source": [
    "The question that arises is how come the TF-IDF model preforms so poorly in predicting spam messages correctly. One possibility is that our hypothesis that words indicative of spam texts receive higher weights is not correct. It could be that a large number of words appearing only rarely in non-spam messages because they are for example used by only few individuals, concern a very specific topic or are misspelled a few times, receive the highest weightings. Words that are more common in spam messages could receive a low weighting because compared to these individualized words from non-spam messages they appear relatively often. Testing for a model in which we increase the minimum number of different text messages that need to use a specific word, we find that results improve somewhat, but are still worse than our baseline Naïve Bayesian model."
   ]
  },
  {
   "cell_type": "markdown",
   "metadata": {},
   "source": [
    "## Comparing Results"
   ]
  },
  {
   "cell_type": "markdown",
   "metadata": {},
   "source": [
    "Comparing all four of the above models we find that the Naïve Bayesian classifier using non-processed text messages is most reliable for classifying spam and ham messages. Not only does is have the highest accuracy, but it also produces the least false classifications for spam messages. In our opinion correctly filtering spam is more relevant than correctly classifying non-spam. That both Naïve Bayes and TF-IDF work better using non-processed texts raises the question to what extent the autographic characteristics of the messages aid the algorithm in the classification. We therefore propose a method by which the classification process will be independent of the actual word usage but be solely based on the format of the text."
   ]
  },
  {
   "cell_type": "code",
   "execution_count": 27,
   "metadata": {},
   "outputs": [],
   "source": [
    "categories = ['Ham','Spam']\n",
    "\n",
    "def confmat(result,Title,Acc):\n",
    "    fig, ax = plt.subplots()\n",
    "    im = ax.imshow(result, cmap=\"Pastel1\")\n",
    "\n",
    "    ax.set_xticks(np.arange(len(categories)))\n",
    "    ax.set_yticks(np.arange(len(categories)))\n",
    "\n",
    "    ax.set_xticklabels(categories)\n",
    "    ax.set_yticklabels(categories)\n",
    "    \n",
    "    for i in range(len(categories)):\n",
    "        for j in range(len(categories)):\n",
    "            text = ax.text(j, i, result[i, j], ha=\"center\", va=\"center\")\n",
    "    ax.set_title(Title)\n",
    "    accuracy = 'Accuracy : {}%'.format(round(Acc*100,2))\n",
    "    ax.set_xlabel(accuracy)\n",
    "    fig.tight_layout()\n",
    "    plt.show()"
   ]
  },
  {
   "cell_type": "code",
   "execution_count": null,
   "metadata": {},
   "outputs": [],
   "source": [
    "confmat(cm_p,'Confusion Matrix for processed texts',acc_p)\n",
    "confmat(cm_np,'Confusion Matrix for non-processed texts',acc_np)\n",
    "confmat(cm_tf,'Confusion Matrix for processed texts - using tfidf,',acc_tf)\n",
    "confmat(cm_tfnp,'Confusion Matrix for non-processed texts - using tfidf',acc_tfnp)"
   ]
  },
  {
   "cell_type": "markdown",
   "metadata": {},
   "source": [
    "# Modeling - Using Random Forest"
   ]
  },
  {
   "cell_type": "markdown",
   "metadata": {},
   "source": [
    "When examining the text messages in terms of the format of the text rather than the word content we find numerous features which we believe distinguish spam from ham messages. Therefore, we think that we can create a spam filter which uses these features. Indeed, instead of taking into account the message and develop a natural language processing tools, we can use message characteristic and train machine learning methods on these features, without taking the content of the message into account.\n",
    "\n",
    "In the following exercise, we append three features to each message: the length, the relative number of digits and the number of capital letters. We then train a random forest algorithm. This algorithm builds several classification trees on different subdata sets, by selecting randomly both raws and features, to avoid overfitting.\n",
    "\n",
    "We believe that this algorithm could be the best option for our application because we have a quite low number of different features and a relatively small dataset. More complex machine learning algorithms such as neural network would have probably been unfeasible.\n"
   ]
  },
  {
   "cell_type": "code",
   "execution_count": 11,
   "metadata": {},
   "outputs": [],
   "source": [
    "#Generting a variable that captures the length of a message in terms of the number of characters.\n",
    "\n",
    "sms['length'] = sms['messages'].apply(len)"
   ]
  },
  {
   "cell_type": "code",
   "execution_count": 12,
   "metadata": {},
   "outputs": [],
   "source": [
    "#Generating a variable that counts the number of capital letters.\n",
    "\n",
    "def capital_letter(message):\n",
    "  return sum(1 for c in message if c.isupper())\n",
    "\n",
    "sms['capital'] = sms['messages'].apply(capital_letter)"
   ]
  },
  {
   "cell_type": "code",
   "execution_count": 13,
   "metadata": {},
   "outputs": [],
   "source": [
    "# We create an index of the relative number of digits in a message.\n",
    "\n",
    "def count(messages):\n",
    "  numbers = sum(c.isdigit() for c in messages) + 1 \n",
    "  letters = sum(c.isalpha() for c in messages) + 1 \n",
    "  spaces  = sum(c.isspace() for c in messages)\n",
    "  others  = len(messages) - numbers - letters - spaces\n",
    "  return numbers/(letters+numbers+spaces+others)\n",
    "\n",
    "sms['relative_number_of_digits'] = sms['messages'].apply(count)"
   ]
  },
  {
   "cell_type": "code",
   "execution_count": 14,
   "metadata": {
    "scrolled": true
   },
   "outputs": [
    {
     "data": {
      "text/html": [
       "<div>\n",
       "<style scoped>\n",
       "    .dataframe tbody tr th:only-of-type {\n",
       "        vertical-align: middle;\n",
       "    }\n",
       "\n",
       "    .dataframe tbody tr th {\n",
       "        vertical-align: top;\n",
       "    }\n",
       "\n",
       "    .dataframe thead th {\n",
       "        text-align: right;\n",
       "    }\n",
       "</style>\n",
       "<table border=\"1\" class=\"dataframe\">\n",
       "  <thead>\n",
       "    <tr style=\"text-align: right;\">\n",
       "      <th></th>\n",
       "      <th>label</th>\n",
       "      <th>messages</th>\n",
       "      <th>length</th>\n",
       "      <th>capital</th>\n",
       "      <th>relative_number_of_digits</th>\n",
       "    </tr>\n",
       "  </thead>\n",
       "  <tbody>\n",
       "    <tr>\n",
       "      <th>0</th>\n",
       "      <td>ham</td>\n",
       "      <td>Go until jurong point, crazy.. Available only ...</td>\n",
       "      <td>111</td>\n",
       "      <td>3</td>\n",
       "      <td>0.009009</td>\n",
       "    </tr>\n",
       "    <tr>\n",
       "      <th>1</th>\n",
       "      <td>ham</td>\n",
       "      <td>Ok lar... Joking wif u oni...</td>\n",
       "      <td>29</td>\n",
       "      <td>2</td>\n",
       "      <td>0.034483</td>\n",
       "    </tr>\n",
       "    <tr>\n",
       "      <th>2</th>\n",
       "      <td>spam</td>\n",
       "      <td>Free entry in 2 a wkly comp to win FA Cup fina...</td>\n",
       "      <td>155</td>\n",
       "      <td>10</td>\n",
       "      <td>0.167742</td>\n",
       "    </tr>\n",
       "    <tr>\n",
       "      <th>3</th>\n",
       "      <td>ham</td>\n",
       "      <td>U dun say so early hor... U c already then say...</td>\n",
       "      <td>49</td>\n",
       "      <td>2</td>\n",
       "      <td>0.020408</td>\n",
       "    </tr>\n",
       "    <tr>\n",
       "      <th>4</th>\n",
       "      <td>ham</td>\n",
       "      <td>Nah I don't think he goes to usf, he lives aro...</td>\n",
       "      <td>61</td>\n",
       "      <td>2</td>\n",
       "      <td>0.016393</td>\n",
       "    </tr>\n",
       "  </tbody>\n",
       "</table>\n",
       "</div>"
      ],
      "text/plain": [
       "  label                                           messages  length  capital  \\\n",
       "0   ham  Go until jurong point, crazy.. Available only ...     111        3   \n",
       "1   ham                      Ok lar... Joking wif u oni...      29        2   \n",
       "2  spam  Free entry in 2 a wkly comp to win FA Cup fina...     155       10   \n",
       "3   ham  U dun say so early hor... U c already then say...      49        2   \n",
       "4   ham  Nah I don't think he goes to usf, he lives aro...      61        2   \n",
       "\n",
       "   relative_number_of_digits  \n",
       "0                   0.009009  \n",
       "1                   0.034483  \n",
       "2                   0.167742  \n",
       "3                   0.020408  \n",
       "4                   0.016393  "
      ]
     },
     "execution_count": 14,
     "metadata": {},
     "output_type": "execute_result"
    }
   ],
   "source": [
    "sms.head()"
   ]
  },
  {
   "cell_type": "markdown",
   "metadata": {},
   "source": [
    "Before implementing the random forest, we will firstly examine how well the three chosen features are distinctive for spam messages."
   ]
  },
  {
   "cell_type": "code",
   "execution_count": 15,
   "metadata": {},
   "outputs": [
    {
     "data": {
      "text/plain": [
       "<seaborn.axisgrid.FacetGrid at 0x15bfddd4910>"
      ]
     },
     "execution_count": 15,
     "metadata": {},
     "output_type": "execute_result"
    },
    {
     "data": {
      "image/png": "[encoded data removed]",
      "text/plain": [
       "<Figure size 423.25x360 with 1 Axes>"
      ]
     },
     "metadata": {
      "needs_background": "light"
     },
     "output_type": "display_data"
    },
    {
     "data": {
      "image/png": "[encoded data removed]",
      "text/plain": [
       "<Figure size 423.25x360 with 1 Axes>"
      ]
     },
     "metadata": {
      "needs_background": "light"
     },
     "output_type": "display_data"
    },
    {
     "data": {
      "image/png": "[encoded data removed]",
      "text/plain": [
       "<Figure size 423.25x360 with 1 Axes>"
      ]
     },
     "metadata": {
      "needs_background": "light"
     },
     "output_type": "display_data"
    }
   ],
   "source": [
    "sns.displot(sms, x='length',hue='label', multiple = \"dodge\")\n",
    "sns.displot(sms, x='capital',hue='label', multiple = \"dodge\")\n",
    "sns.displot(sms, x='relative_number_of_digits',hue='label', multiple = \"dodge\")"
   ]
  },
  {
   "cell_type": "code",
   "execution_count": 16,
   "metadata": {},
   "outputs": [
    {
     "data": {
      "image/png": "[encoded data removed]",
      "text/plain": [
       "<Figure size 1008x288 with 2 Axes>"
      ]
     },
     "metadata": {
      "needs_background": "light"
     },
     "output_type": "display_data"
    },
    {
     "data": {
      "image/png": "[encoded data removed]",
      "text/plain": [
       "<Figure size 1008x288 with 2 Axes>"
      ]
     },
     "metadata": {
      "needs_background": "light"
     },
     "output_type": "display_data"
    },
    {
     "data": {
      "image/png": "[encoded data removed]",
      "text/plain": [
       "<Figure size 1008x288 with 2 Axes>"
      ]
     },
     "metadata": {
      "needs_background": "light"
     },
     "output_type": "display_data"
    }
   ],
   "source": [
    "f, (ax1, ax2) = plt.subplots(1, 2, figsize=(14, 4))\n",
    "sp = sns.stripplot(x='label', y=\"length\", data=sms, ax=ax1)\n",
    "bp = sns.boxplot(x='label', y=\"length\", data=sms, palette=\"Set2\", ax=ax2)\n",
    "t = f.suptitle('Visualizing lexicon accuracy', fontsize=14)\n",
    "\n",
    "f, (ax1, ax2) = plt.subplots(1, 2, figsize=(14, 4))\n",
    "sp = sns.stripplot(x='label', y=\"capital\", data=sms, ax=ax1)\n",
    "bp = sns.boxplot(x='label', y=\"capital\", data=sms, palette=\"Set2\", ax=ax2)\n",
    "t = f.suptitle('Visualizing lexicon accuracy', fontsize=14)\n",
    "\n",
    "f, (ax1, ax2) = plt.subplots(1, 2, figsize=(14, 4))\n",
    "sp = sns.stripplot(x='label', y=\"relative_number_of_digits\", data=sms, ax=ax1)\n",
    "bp = sns.boxplot(x='label', y=\"relative_number_of_digits\", data=sms, palette=\"Set2\", ax=ax2)\n",
    "t = f.suptitle('Visualizing lexicon accuracy', fontsize=14)"
   ]
  },
  {
   "cell_type": "markdown",
   "metadata": {},
   "source": [
    "Overall, there seem to be clear distinctions between the two labels for the three features we have chosen. For all three features the distributions of the characteristics are different between ham and spam texts. In general, we find that non-spam messages have lower averages for all of the characteristics, but also a larger number of outliers.\n",
    "\n",
    "Take for example the length feature: The average spam message contains 138 characters, whilst the average non-spam message contains only 71 characters. Also, the distribution of the message lengths is very different. Non-spam texts are usually very short, with more than 75% of the messages being below 100 characters and about 50% of the messages being below 50 characters. However, there are a few ham texts which are considerably longer than all other messages. On the spam side, messages are mainly between 130 and 150 characters long, with few messages being very short and no message being very long. It is very rare that a spam message exceeds the standardized text length of 160 characters.\n",
    "\n",
    "In general, it is a bit confusing that some text messages exceed the length of 160 characters for one text message. One possible explanation is that messages exceeding the 160-character limit were sent using multiple texts but are considered in the dataset as only one message. We are unable to verify if this is the case.\n"
   ]
  },
  {
   "cell_type": "code",
   "execution_count": 17,
   "metadata": {
    "scrolled": false
   },
   "outputs": [
    {
     "data": {
      "text/html": [
       "<div>\n",
       "<style scoped>\n",
       "    .dataframe tbody tr th:only-of-type {\n",
       "        vertical-align: middle;\n",
       "    }\n",
       "\n",
       "    .dataframe tbody tr th {\n",
       "        vertical-align: top;\n",
       "    }\n",
       "\n",
       "    .dataframe thead tr th {\n",
       "        text-align: left;\n",
       "    }\n",
       "\n",
       "    .dataframe thead tr:last-of-type th {\n",
       "        text-align: right;\n",
       "    }\n",
       "</style>\n",
       "<table border=\"1\" class=\"dataframe\">\n",
       "  <thead>\n",
       "    <tr>\n",
       "      <th></th>\n",
       "      <th colspan=\"8\" halign=\"left\">length</th>\n",
       "    </tr>\n",
       "    <tr>\n",
       "      <th></th>\n",
       "      <th>count</th>\n",
       "      <th>mean</th>\n",
       "      <th>std</th>\n",
       "      <th>min</th>\n",
       "      <th>25%</th>\n",
       "      <th>50%</th>\n",
       "      <th>75%</th>\n",
       "      <th>max</th>\n",
       "    </tr>\n",
       "    <tr>\n",
       "      <th>label</th>\n",
       "      <th></th>\n",
       "      <th></th>\n",
       "      <th></th>\n",
       "      <th></th>\n",
       "      <th></th>\n",
       "      <th></th>\n",
       "      <th></th>\n",
       "      <th></th>\n",
       "    </tr>\n",
       "  </thead>\n",
       "  <tbody>\n",
       "    <tr>\n",
       "      <th>ham</th>\n",
       "      <td>4825.0</td>\n",
       "      <td>71.021347</td>\n",
       "      <td>58.014768</td>\n",
       "      <td>2.0</td>\n",
       "      <td>33.0</td>\n",
       "      <td>52.0</td>\n",
       "      <td>92.0</td>\n",
       "      <td>910.0</td>\n",
       "    </tr>\n",
       "    <tr>\n",
       "      <th>spam</th>\n",
       "      <td>747.0</td>\n",
       "      <td>138.429719</td>\n",
       "      <td>29.049857</td>\n",
       "      <td>13.0</td>\n",
       "      <td>132.0</td>\n",
       "      <td>149.0</td>\n",
       "      <td>157.0</td>\n",
       "      <td>223.0</td>\n",
       "    </tr>\n",
       "  </tbody>\n",
       "</table>\n",
       "</div>"
      ],
      "text/plain": [
       "       length                                                         \n",
       "        count        mean        std   min    25%    50%    75%    max\n",
       "label                                                                 \n",
       "ham    4825.0   71.021347  58.014768   2.0   33.0   52.0   92.0  910.0\n",
       "spam    747.0  138.429719  29.049857  13.0  132.0  149.0  157.0  223.0"
      ]
     },
     "execution_count": 17,
     "metadata": {},
     "output_type": "execute_result"
    }
   ],
   "source": [
    "sms[['length', 'label']].groupby('label').describe()"
   ]
  },
  {
   "cell_type": "markdown",
   "metadata": {},
   "source": [
    "Having demonstrated that the differences in our chosen characteristics are substantial, we now move on to training our random forest algorithm. This algorithm is going to train several decision trees and select randomly both raws and features in order to find the best tree and to avoid overfitting."
   ]
  },
  {
   "cell_type": "code",
   "execution_count": 18,
   "metadata": {},
   "outputs": [],
   "source": [
    "# We first create a dummy for the label\n",
    "label_dummies = pd.concat([pd.get_dummies(sms['label'])['spam'], sms[['length','capital','relative_number_of_digits']]], axis=1)"
   ]
  },
  {
   "cell_type": "code",
   "execution_count": 19,
   "metadata": {
    "scrolled": true
   },
   "outputs": [
    {
     "data": {
      "text/html": [
       "<div>\n",
       "<style scoped>\n",
       "    .dataframe tbody tr th:only-of-type {\n",
       "        vertical-align: middle;\n",
       "    }\n",
       "\n",
       "    .dataframe tbody tr th {\n",
       "        vertical-align: top;\n",
       "    }\n",
       "\n",
       "    .dataframe thead th {\n",
       "        text-align: right;\n",
       "    }\n",
       "</style>\n",
       "<table border=\"1\" class=\"dataframe\">\n",
       "  <thead>\n",
       "    <tr style=\"text-align: right;\">\n",
       "      <th></th>\n",
       "      <th>spam</th>\n",
       "      <th>length</th>\n",
       "      <th>capital</th>\n",
       "      <th>relative_number_of_digits</th>\n",
       "    </tr>\n",
       "  </thead>\n",
       "  <tbody>\n",
       "    <tr>\n",
       "      <th>0</th>\n",
       "      <td>0</td>\n",
       "      <td>111</td>\n",
       "      <td>3</td>\n",
       "      <td>0.009009</td>\n",
       "    </tr>\n",
       "    <tr>\n",
       "      <th>1</th>\n",
       "      <td>0</td>\n",
       "      <td>29</td>\n",
       "      <td>2</td>\n",
       "      <td>0.034483</td>\n",
       "    </tr>\n",
       "    <tr>\n",
       "      <th>2</th>\n",
       "      <td>1</td>\n",
       "      <td>155</td>\n",
       "      <td>10</td>\n",
       "      <td>0.167742</td>\n",
       "    </tr>\n",
       "    <tr>\n",
       "      <th>3</th>\n",
       "      <td>0</td>\n",
       "      <td>49</td>\n",
       "      <td>2</td>\n",
       "      <td>0.020408</td>\n",
       "    </tr>\n",
       "    <tr>\n",
       "      <th>4</th>\n",
       "      <td>0</td>\n",
       "      <td>61</td>\n",
       "      <td>2</td>\n",
       "      <td>0.016393</td>\n",
       "    </tr>\n",
       "    <tr>\n",
       "      <th>...</th>\n",
       "      <td>...</td>\n",
       "      <td>...</td>\n",
       "      <td>...</td>\n",
       "      <td>...</td>\n",
       "    </tr>\n",
       "    <tr>\n",
       "      <th>5567</th>\n",
       "      <td>1</td>\n",
       "      <td>160</td>\n",
       "      <td>9</td>\n",
       "      <td>0.137500</td>\n",
       "    </tr>\n",
       "    <tr>\n",
       "      <th>5568</th>\n",
       "      <td>0</td>\n",
       "      <td>37</td>\n",
       "      <td>1</td>\n",
       "      <td>0.027027</td>\n",
       "    </tr>\n",
       "    <tr>\n",
       "      <th>5569</th>\n",
       "      <td>0</td>\n",
       "      <td>57</td>\n",
       "      <td>2</td>\n",
       "      <td>0.017544</td>\n",
       "    </tr>\n",
       "    <tr>\n",
       "      <th>5570</th>\n",
       "      <td>0</td>\n",
       "      <td>125</td>\n",
       "      <td>2</td>\n",
       "      <td>0.008000</td>\n",
       "    </tr>\n",
       "    <tr>\n",
       "      <th>5571</th>\n",
       "      <td>0</td>\n",
       "      <td>26</td>\n",
       "      <td>2</td>\n",
       "      <td>0.038462</td>\n",
       "    </tr>\n",
       "  </tbody>\n",
       "</table>\n",
       "<p>5572 rows × 4 columns</p>\n",
       "</div>"
      ],
      "text/plain": [
       "      spam  length  capital  relative_number_of_digits\n",
       "0        0     111        3                   0.009009\n",
       "1        0      29        2                   0.034483\n",
       "2        1     155       10                   0.167742\n",
       "3        0      49        2                   0.020408\n",
       "4        0      61        2                   0.016393\n",
       "...    ...     ...      ...                        ...\n",
       "5567     1     160        9                   0.137500\n",
       "5568     0      37        1                   0.027027\n",
       "5569     0      57        2                   0.017544\n",
       "5570     0     125        2                   0.008000\n",
       "5571     0      26        2                   0.038462\n",
       "\n",
       "[5572 rows x 4 columns]"
      ]
     },
     "execution_count": 19,
     "metadata": {},
     "output_type": "execute_result"
    }
   ],
   "source": [
    "label_dummies"
   ]
  },
  {
   "cell_type": "code",
   "execution_count": 20,
   "metadata": {
    "scrolled": true
   },
   "outputs": [],
   "source": [
    "#We create a list with our features and an array for the labels (spam) and for the feature. \n",
    "labels = np.array(label_dummies['spam'])\n",
    "features= label_dummies.drop('spam', axis = 1)\n",
    "feature_list = list(features.columns)\n",
    "features = np.array(features)\n"
   ]
  },
  {
   "cell_type": "markdown",
   "metadata": {},
   "source": [
    "Now that we have our dataset ready, we split it into train data set and test data set with the library sklearn."
   ]
  },
  {
   "cell_type": "code",
   "execution_count": 21,
   "metadata": {},
   "outputs": [],
   "source": [
    "from sklearn.model_selection import train_test_split\n",
    "train_features, test_features, train_labels, test_labels = train_test_split(features, labels, test_size = 0.2, random_state = 42)"
   ]
  },
  {
   "cell_type": "code",
   "execution_count": 22,
   "metadata": {
    "scrolled": true
   },
   "outputs": [
    {
     "name": "stdout",
     "output_type": "stream",
     "text": [
      "Training Features Shape: (4457, 3)\n",
      "Training Labels Shape: (4457,)\n",
      "Testing Features Shape: (1115, 3)\n",
      "Testing Labels Shape: (1115,)\n"
     ]
    }
   ],
   "source": [
    "print('Training Features Shape:', train_features.shape)\n",
    "print('Training Labels Shape:', train_labels.shape)\n",
    "print('Testing Features Shape:', test_features.shape)\n",
    "print('Testing Labels Shape:', test_labels.shape)\n"
   ]
  },
  {
   "cell_type": "code",
   "execution_count": 23,
   "metadata": {},
   "outputs": [
    {
     "data": {
      "text/plain": [
       "RandomForestClassifier(n_estimators=1000, random_state=42)"
      ]
     },
     "execution_count": 23,
     "metadata": {},
     "output_type": "execute_result"
    }
   ],
   "source": [
    "#TRAIN\n",
    "rfc = RandomForestClassifier(n_estimators=1000, random_state=42)\n",
    "rfc.fit(train_features, train_labels)"
   ]
  },
  {
   "cell_type": "code",
   "execution_count": 24,
   "metadata": {},
   "outputs": [
    {
     "name": "stdout",
     "output_type": "stream",
     "text": [
      "[0 0 1 0 1 0 0 0 0 0 0 1 0 0 0 0 0 1 0 0 0 1 0 0 1 0 0 0 0 0 0 0 1 0 0 0 0\n",
      " 0 0 0 0 0 1 0 0 0 0 0 0 0 1 0 1 0 0 0 0 0 0 0 0 1 0 0 0 0 0 0 0 1 0 0 0 0\n",
      " 0 1 0 0 0 0 0 0 0 0 0 0 1 0 0 0 0 0 0 0 0 0 0 0 0 0]\n"
     ]
    }
   ],
   "source": [
    "# TEST\n",
    "y_pred = rfc.predict(test_features)\n",
    "print(rfc.predict(test_features[:100]))"
   ]
  },
  {
   "cell_type": "code",
   "execution_count": 28,
   "metadata": {
    "scrolled": false
   },
   "outputs": [
    {
     "data": {
      "image/png": "[encoded data removed]",
      "text/plain": [
       "<Figure size 432x288 with 1 Axes>"
      ]
     },
     "metadata": {
      "needs_background": "light"
     },
     "output_type": "display_data"
    },
    {
     "name": "stdout",
     "output_type": "stream",
     "text": [
      "Accuracy: 0.9847533632286996\n"
     ]
    }
   ],
   "source": [
    "# Result\n",
    "Accuracy_k = accuracy_score(y_pred, test_labels)\n",
    "confmat(confusion_matrix(y_pred, test_labels),'Confusion Matrix - Random Forest', Accuracy_k)\n",
    "print('Accuracy:', Accuracy_k)"
   ]
  },
  {
   "cell_type": "markdown",
   "metadata": {},
   "source": [
    "Using our random forest we get very good results for the accuracy (around 98.5%). Also, the confussion matrix shows that the model classifies only 5 spam messages wrongly as non-spam, a rate of around 3.5%."
   ]
  },
  {
   "cell_type": "markdown",
   "metadata": {},
   "source": [
    "To better understand what happened, we would like to see what the decision tree actually looks like. \n"
   ]
  },
  {
   "cell_type": "code",
   "execution_count": null,
   "metadata": {
    "scrolled": true
   },
   "outputs": [],
   "source": [
    "tree = rfc.estimators_[5]\n",
    "export_graphviz(tree, out_file='tree.dot', \n",
    "                feature_names = feature_list,\n",
    "                rounded = True, \n",
    "                precision = 1)\n",
    "(graph, ) = pydot.graph_from_dot_file('tree.dot')\n",
    "Image(graph.create_png())"
   ]
  },
  {
   "cell_type": "markdown",
   "metadata": {},
   "source": [
    "To better understand what features are important at the different nodes, we examine a tree restricted to 3 layers.  "
   ]
  },
  {
   "cell_type": "code",
   "execution_count": null,
   "metadata": {
    "scrolled": true
   },
   "outputs": [],
   "source": [
    "rfc_small = RandomForestClassifier(n_estimators=1000, max_depth = 3)\n",
    "rfc_small.fit(train_features, train_labels)\n",
    "tree_small = rfc_small.estimators_[5]\n",
    "export_graphviz(tree_small, out_file='small_tree.dot', \n",
    "                feature_names = feature_list,\n",
    "                rounded = True, \n",
    "                precision = 1)\n",
    "(graph_small, ) = pydot.graph_from_dot_file('small_tree.dot')\n",
    "Image(graph_small.create_png())"
   ]
  },
  {
   "cell_type": "markdown",
   "metadata": {},
   "source": [
    "In the tree with 3 layers, the number of capital letters does not seem to play a big role because it is not used in the classification process. In order to examine if this is also the case for out unrestrained tree, we investigate how important each of our three features are for the classification of the baseline tree. "
   ]
  },
  {
   "cell_type": "code",
   "execution_count": 26,
   "metadata": {
    "scrolled": true
   },
   "outputs": [
    {
     "name": "stdout",
     "output_type": "stream",
     "text": [
      "Variable: relative_number_of_digits Importance: 0.5\n",
      "Variable: capital              Importance: 0.26\n",
      "Variable: length               Importance: 0.23\n"
     ]
    },
    {
     "data": {
      "text/plain": [
       "[None, None, None]"
      ]
     },
     "execution_count": 26,
     "metadata": {},
     "output_type": "execute_result"
    }
   ],
   "source": [
    "importances = list(rfc.feature_importances_)\n",
    "feature_importances = [(feature, round(importance, 2)) for feature, importance in zip(feature_list, importances)]\n",
    "feature_importances = sorted(feature_importances, key = lambda x: x[1], reverse = True)\n",
    "[print('Variable: {:20} Importance: {}'.format(*pair)) for pair in feature_importances]"
   ]
  },
  {
   "cell_type": "markdown",
   "metadata": {},
   "source": [
    "We find that the number of digits and the number of capital letters are more important than the length of the messages for the classification process. The difference in importance between the number of capital letters and the length is not very large though.\n",
    "\n",
    "We will train a new random forest algorithm using only the two most important variables: relative_number_of_digits and capital."
   ]
  },
  {
   "cell_type": "code",
   "execution_count": 29,
   "metadata": {},
   "outputs": [],
   "source": [
    "# New random forest with only the two most important variables\n",
    "rfc_most_important = RandomForestClassifier(n_estimators= 1000, random_state=42)\n",
    "important_indices = [feature_list.index('relative_number_of_digits'), feature_list.index('capital')]\n",
    "\n",
    "#TRAIN\n",
    "train_important = train_features[:, important_indices]\n",
    "test_important = test_features[:, important_indices]\n",
    "\n",
    "rfc_most_important.fit(train_important, train_labels)\n",
    "\n",
    "#TEST\n",
    "y_pred = rfc_most_important.predict(test_important)\n"
   ]
  },
  {
   "cell_type": "code",
   "execution_count": 30,
   "metadata": {},
   "outputs": [
    {
     "data": {
      "image/png": "[encoded data removed]",
      "text/plain": [
       "<Figure size 432x288 with 1 Axes>"
      ]
     },
     "metadata": {
      "needs_background": "light"
     },
     "output_type": "display_data"
    },
    {
     "name": "stdout",
     "output_type": "stream",
     "text": [
      "Accuracy: 0.9695067264573991\n"
     ]
    }
   ],
   "source": [
    "# Result\n",
    "Accuracy_k = accuracy_score(y_pred, test_labels)\n",
    "confmat(confusion_matrix(y_pred, test_labels),'Confusion Matrix - Random Forest', Accuracy_k)\n",
    "print('Accuracy:', Accuracy_k)"
   ]
  },
  {
   "cell_type": "markdown",
   "metadata": {},
   "source": [
    "Leaving out one of the features reduces the accuracy of the model to 97% and makes it considerably more difficult for the algorithm to determine spam messages correctly. Adding the length as a feature therefore adds 1.5% onto the accuracy and also decreased the number of wrongly classified ham and spam messages by 9 and 8, respectively."
   ]
  },
  {
   "cell_type": "markdown",
   "metadata": {},
   "source": [
    "# Comparision"
   ]
  },
  {
   "cell_type": "markdown",
   "metadata": {},
   "source": [
    "Comparing the performance of all our models, we find that all models have similarly high accuracy rates. The Naïve Bayesian classifier without text processing and the baseline random forest lead to the best results. In both cases the accuracy is around 98.5%. Comparing only the NLP models we find that in both cases the algorithm preforms better when using non-processed texts than when using processed text data. This underlines that features such as capitalizations and the use of numbers are informative indicators for the classification process.\n",
    "\n",
    "The largest difference between the NLP and the Random Forest models is how well they perform at correctly identifying spam and ham messages. Whilst Naïve Bayes and TF-IDF are better at correctly classifying ham messages, the Random Forest makes less mistakes when classifying spam. We predict that this difference comes from the distribution of the features in the regression tree approach. The features for the spam messages display considerably less variance compared to the ham messages. We believe that this enables the algorithm to identify spam with higher certainty.\n",
    "\n",
    "If we were to choose our most successful spam filter, we would need to consider which outcome we prefer: capturing all spam messages and running the risk of falsely classifying ham as spam, or letting more spam messages escape our filter. On the one hand, it could be extremely frustrating to not receive normal text messages because these were mistakenly filtered as spam and one may be prepared to receive a spam messages once in a while in order to avoid this. On the other hand, the fundamental idea of a spam filter is to correctly catch all spam messages. Drawing on our experiences with spam filters for emails, we presume that the industry standard is to avoid false positives at the cost of an occasional spam email passing through the filter. We would therefore be inclined to propose a natural language-based spam filter."
   ]
  },
  {
   "cell_type": "markdown",
   "metadata": {},
   "source": [
    "| Method                | Naive Bayes: Processed text | Naive Bayes: Non-processed text  | TF-idf: Processed text | TF-idf: Non-processed text   | Random Forest      | Random Forest, keeping only the 2 most important features |\n",
    "|-----------------------|-----------------------------|---------------------|---------------------------|--------------------|--------------------|-----------------------------------------------------------|\n",
    "| Accuracy              | 0.9775784753363229          | 0.9856502242152466  | 0.9713004484304932        | 0.9730941704035875 | 0.9847533632286996 | 0.9695067264573991                                        |\n",
    "| False Positive (spam) | 11                          | 3                   | 1                         | 1                  | 12                 | 20                                                        |\n",
    "| False Negative  (ham)      | 14                          | 13                  | 31                        | 29                 | 5                  | 14                                                         |"
   ]
  },
  {
   "cell_type": "markdown",
   "metadata": {},
   "source": [
    "(We refer to a false positive when a ham message is wrongly marked as spam and to a false negative when a spam message is wrongly marked as ham.)"
   ]
  },
  {
   "cell_type": "markdown",
   "metadata": {},
   "source": [
    "# Discussion"
   ]
  },
  {
   "cell_type": "markdown",
   "metadata": {},
   "source": [
    "This project leaves ample space for improvements and extensions, a few of which we will now address. On the side of improvements, it would strengthen the validity of our results if we presented a larger variety of model specifications as well as included a stronger validation process. There are many ways for us to adjust the natural language processing models via variations in the data cleaning process as well as in our choice of parameters in the vectorization procedure. In order to keep the results comparable though we decided to fix the vectorization parameters and focus on adjusting the amount of text processing. For this we present our upper and our lower bound: full processing and no processing. Nevertheless, varying the model’s parameters, such as setting a maximum number of times a word may appear, present interesting insights into the data. As previously mentioned, only when the maximum is set below 10% does it start to become binding. This not only reflects the fact that text messages contain few words, but that the word choice between messages varies strongly. Not even abbreviations such as “ur” are used in more than 5% of the messages.\n",
    "\n",
    "In terms of strengthening the internal validity our NLP models, preforming a larger number of out-of-sample tests would help determine the consistency of our findings. A k-fold cross validation would be an ideal method by which to reliably capture the performance of our models. However, we are fairly constrained in the choice of our test and training sets due to the amount of data points available. A cross validation will only strengthen our analysis if we generate random subsamples using replacement.\n",
    "\n",
    "For the Random Forest we found that we were slightly constrained by the amount of data available to use. On the one hand, including a larger set of characteristics would be interesting and would also allow us to determine the most informative features of the text messages more precisely. Nevertheless, we find that using only two features already returns good results. On the other hand, adjusting the model parameters would be the natural next step when using random forests. We decided to utilize a baseline, default model as the aim of the exercise was not to taming the trees, but to see if it were possible to find another method by which to filter spam, other than natural language processing. When including some constraints, such as a stopping rule or a maximum number of nodes, we found that the overall accuracy of the model was equally high as in the baseline, but that the accuracy with which spam and ham messages were classified shifted. The algorithm became more successful in predicting spam messages and less precise when predicting non-spam.\n",
    "\n",
    "Whilst there are many ways in which this analysis could be expanded and extended there are caveats which we are unable to correct for. The main problem which we face is the constraint of our dataset. We will therefore discuss some of the data issues and how these potentially impact our results.\n",
    "\n",
    "Firstly, there are considerably more non-spam messages in our dataset than spam message. This is externally valid but means that we lack spam messages with which to train our algorithm. It is therefore of little surprise that the Naïve Bayesian and the TF-IDF models are better trained at recognizing non-spam text.\n",
    "\n",
    "Secondly, the sources of the data could impact our results. The authors of the dataset refer in their description to the difficulty of compiling the text messages. Very few sources for real text messages are available, and nearly no source collects spam messages. The authors therefore mix sources, which means that the spam and the ham messages do not originate from the same set of individuals. This would in general not necessarily be a problem, however in this case, the geographics and the demographics of the text message sources are very distinct. The ham messages mainly stem from university students in Singapore and the spam messages from the United Kingdom. It can be imagined that there are subtle differences in the vocabulary used in these two countries which could affect how well an NLP algorithm can distinguish between spam and ham. If such a difference does exist, we hypothesis that this improves our accuracy rate, and that accuracy may be slightly lower if we had spam and ham data for the same country. Also, the demographic characteristic of the data could be impacting the results. Our personal experience shows use that students generally use a different language for text messaging than older generations. They are less concerned with correct spelling or grammar, frequently use abbreviations, and include slang into their writing. This could lead to a clear distinction between spam and ham messages, as spam messages are more likely to use “normal” language. If we were to include more messages from older generations, we believe that this could drive down our accuracy. No doubt some students would be happy to classify text messages from their parents as spam.\n",
    "\n",
    "A third, more general data concern is selection bias. It is not clear what the conditions are for a message to be classified as spam. Does this only include messages from phone numbers unknown to the receiver publicizing a product or asking for participation in a prize draw or does this also include promotional messages from companies which gained fair access to the phone number? Seeing as the spam message data was collected from a site on which individuals can post when they have received a spam message, the dataset is influenced by individual beliefs of what constitutes spam. It is possible that the individuals who post on this website have very strong opinions on receiving unwanted messages. Furthermore, we believe that more subtle forms of spam could be underrepresented in the data. Recipients may not directly recognize a message as spam but may believe that somebody texted the wrong number by mistake. Given the difficulty with which the authors of the dataset collect data on spam messages, it appears that a selection bias is not only a concern for this dataset but also for the compilation of future spam text datasets. We are dependent on what others believe are spam messages.\n"
   ]
  },
  {
   "cell_type": "markdown",
   "metadata": {},
   "source": [
    "# Conclusion"
   ]
  },
  {
   "cell_type": "markdown",
   "metadata": {},
   "source": [
    "This applied project examines how well three different machine learning methods can be used as a spam filter for text messages. We compare two natural language processing approaches, Naïve Bayesian and TF-IDF, and a regression tree classification. The natural language processing methods focus mainly on the word content of the text messages, whilst the regression trees utilize differences in text message features to determine spam. Overall, we find that all three models deliver similar results in terms of out-of-sample accuracy. However, when examining how well NLP and Random Forest correctly identify spam and ham respectively, we find that the models provide different results. The NLP models are comparatively better at specifying non-spam messages, whilst the Random Forest is relatively better at filtering spam. We connect this difference to the characteristics of the data used by the respective models.\n",
    "\n",
    "The exercise presented here is by no means a complete representation of the machine learning methods that can be applied as a spam filter but gives a first indication of what methods could viably be implemented. The most noteworthy result of the analysis is that the word content of a text message is no more indicative of the type of message than the format of the text. We believe that this is special for text message data due to the unique characteristics of texts.\n",
    "\n",
    "Whilst text messaging for personal communication has been displaced in recent years by app-based messaging, many digitalization processes in banks, public services or healthcare rely on text messaging. We are increasingly providing companies access to our private phone numbers, allowing them to send us warnings for train delays or reminders to renew a subscription, increasing the risk of numbers being diverted to unwanted third parties. This raises the importance of creating a reliable spam filter for text messaging. However, for this to be possible the gaps in the data available for training spam filters need to be filled.\n"
   ]
  }
 ],
 "metadata": {
  "kernelspec": {
   "display_name": "Python 3",
   "language": "python",
   "name": "python3"
  },
  "language_info": {
   "codemirror_mode": {
    "name": "ipython",
    "version": 3
   },
   "file_extension": ".py",
   "mimetype": "text/x-python",
   "name": "python",
   "nbconvert_exporter": "python",
   "pygments_lexer": "ipython3",
   "version": "3.9.2"
  }
 },
 "nbformat": 4,
 "nbformat_minor": 4
}
